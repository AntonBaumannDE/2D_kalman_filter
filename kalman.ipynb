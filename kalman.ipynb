{
  "nbformat": 4,
  "nbformat_minor": 0,
  "metadata": {
    "colab": {
      "name": "kalman.ipynb",
      "provenance": [],
      "authorship_tag": "ABX9TyOGHCcIJuRe86bK7tSPmG1L",
      "include_colab_link": true
    },
    "kernelspec": {
      "name": "python3",
      "display_name": "Python 3"
    }
  },
  "cells": [
    {
      "cell_type": "markdown",
      "metadata": {
        "id": "view-in-github",
        "colab_type": "text"
      },
      "source": [
        "<a href=\"https://colab.research.google.com/github/AntonBaumannDE/2D_kalman_filter/blob/master/kalman.ipynb\" target=\"_parent\"><img src=\"https://colab.research.google.com/assets/colab-badge.svg\" alt=\"Open In Colab\"/></a>"
      ]
    },
    {
      "cell_type": "code",
      "metadata": {
        "id": "QyhBgRxxGSUC",
        "colab_type": "code",
        "colab": {}
      },
      "source": [
        "import numpy as np\n",
        "import matplotlib.pyplot as plt"
      ],
      "execution_count": 0,
      "outputs": []
    },
    {
      "cell_type": "code",
      "metadata": {
        "id": "S7opA242BIA6",
        "colab_type": "code",
        "colab": {}
      },
      "source": [
        "def generate_noisy_data(A, x, vals, sigma):\n",
        "\tdata = np.empty(shape=[vals, 2])\n",
        "\tfor i in range(vals): \n",
        "\t\tx = np.dot(A,x)\n",
        "\t\t#if i == (vals/2):\n",
        "\t\t\t#x[3] = -1;\t\n",
        "\n",
        "\t\trnd1 = np.random.uniform()\n",
        "\t\trnd2 = np.random.uniform()\n",
        "\t\tdata[i, 0] = x[0,0] + sigma * np.sqrt(-2.0 * np.log(rnd1)) * np.sin(2.0 * np.pi * rnd2)\n",
        "\n",
        "\t\trnd1 = np.random.uniform()\n",
        "\t\trnd2 = np.random.uniform()\n",
        "\t\tdata[i ,1] = x[1,0] + sigma * np.sqrt(-2.0 * np.log(rnd1)) * np.sin(2.0 * np.pi * rnd2)\n",
        "\t\n",
        "\treturn data\n",
        "\t\t"
      ],
      "execution_count": 0,
      "outputs": []
    },
    {
      "cell_type": "code",
      "metadata": {
        "id": "cxeMMYMLPMfL",
        "colab_type": "code",
        "outputId": "fcd166ce-3466-4e7a-81f7-0386fe69840a",
        "colab": {
          "base_uri": "https://localhost:8080/",
          "height": 265
        }
      },
      "source": [
        "# Anzahl Messwerte\n",
        "vals = 100\n",
        "\n",
        "# Streuung der Messwerte\n",
        "sigma = 5.0\n",
        "\n",
        "# ZustandsÜbergangsmodel\n",
        "dT = 1\n",
        "A = np.array(\n",
        "    [[1, 0, dT, 0],\n",
        "     [0, 1, 0, dT],\n",
        "     [ 0, 0, 1, 0],\n",
        "     [0, 0, 0, 1]])\n",
        "\n",
        "# Realer Zustand\n",
        "x = np.array([[0],[0],[1],[1]])\n",
        "\n",
        "# Messwerte generieren\n",
        "data = generate_noisy_data(A, x, vals, sigma)\n",
        "\n",
        "#Plot noisy data\n",
        "plt.scatter(data[:,0],data[:,1], s=6)\n",
        "plt.show()"
      ],
      "execution_count": 3,
      "outputs": [
        {
          "output_type": "display_data",
          "data": {
            "image/png": "[encoded data removed]",
            "text/plain": [
              "<Figure size 432x288 with 1 Axes>"
            ]
          },
          "metadata": {
            "tags": []
          }
        }
      ]
    },
    {
      "cell_type": "code",
      "metadata": {
        "id": "wG8a7k-E3V3m",
        "colab_type": "code",
        "outputId": "b5445f99-e0c4-46a4-eeda-8a0148b79fab",
        "colab": {
          "base_uri": "https://localhost:8080/",
          "height": 265
        }
      },
      "source": [
        "from numpy.linalg import multi_dot\n",
        "\n",
        "x = np.array([[0],[0],[0],[0]])\n",
        "\n",
        "# Nur die Position ist messbar, nicht die Geschwindigkeit\n",
        "H = np.array([[1, 0, 0, 0],[0, 1, 0, 0]])\n",
        "\n",
        "# Messrauschen\n",
        "R = np.array([[sigma, 0],[0, sigma]])\n",
        "\n",
        "# Systemrauschen\n",
        "Q = np.array([[0.05, 0.12, 0.05, 0],[0, 0.01, 0, 0],[0, 0, 0.01, 0],[0, 0, 0, 0.01]])\n",
        "\n",
        "# Kovarianz\n",
        "P = np.ones(4)\n",
        "\n",
        "# Kalmanfilter\n",
        "for i in range(vals): \n",
        "\n",
        "  #-------Prädiktion\n",
        "  #1.\n",
        "  x_prio = np.dot(A, x)\n",
        "  #2.\n",
        "  y = np.dot(H, x)\n",
        "  #3.\n",
        "  P = np.dot(A, np.dot(P, np.transpose(A))) + Q \n",
        "\n",
        "  #--------Korrektur\n",
        "  #4.\n",
        "  helper = np.dot(H, np.dot(P, H.transpose())) + R\n",
        "  K = multi_dot([P, np.transpose(H), np.linalg.pinv(helper)])\n",
        "\n",
        "  #5.\n",
        "  x = x_prio + np.dot(K, ((np.asmatrix(data[i,:]).transpose())-y))\n",
        "  #6.\n",
        "  P = np.dot((np.ones(4)-np.dot(K, H)), P)\n",
        "\n",
        "\n",
        "  #speichere daten\n",
        "  data_kalman = np.empty(shape=[100, 4])\n",
        "  data_kalman[i,:]=x.transpose()\n",
        "\n",
        "plt.plot(data_kalman[:,0],data_kalman[:,1])\n",
        "plt.scatter(data[:,0],data[:,1], s=6)\n",
        "plt.show()\n"
      ],
      "execution_count": 4,
      "outputs": [
        {
          "output_type": "display_data",
          "data": {
            "image/png": "[encoded data removed]",
            "text/plain": [
              "<Figure size 432x288 with 1 Axes>"
            ]
          },
          "metadata": {
            "tags": []
          }
        }
      ]
    }
  ]
}